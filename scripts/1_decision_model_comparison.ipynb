{
 "cells": [
  {
   "cell_type": "code",
   "execution_count": 5,
   "metadata": {
    "metadata": {}
   },
   "outputs": [
    {
     "name": "stdout",
     "output_type": "stream",
     "text": [
      "The autoreload extension is already loaded. To reload it, use:\n",
      "  %reload_ext autoreload\n"
     ]
    }
   ],
   "source": [
    "%load_ext autoreload\n",
    "%autoreload 2\n",
    "\n",
    "from setup_func import *\n",
    "\n",
    "import importlib\n",
    "import decision_models.a2_wsls\n",
    "import decision_models.c_nobias_asymmetric_rw\n",
    "import decision_models.d_lrbias_rw\n",
    "import decision_models.e_betabias_rw\n",
    "import decision_models.n_momentum_rw\n",
    "import decision_models.o_add_rewbias_rw\n",
    "from decision_models.utils import store_modout, model_comparison, model_comparison_for_paper\n",
    "\n",
    "from pyEM.fitting import EMfit\n",
    "# from pyEM.math import norm2alpha, norm2beta, alpha2norm, beta2norm, compGauss_ms\n",
    "from pyEM import plotting\n",
    "\n",
    "import warnings\n",
    "warnings.filterwarnings('ignore')"
   ]
  },
  {
   "cell_type": "code",
   "execution_count": 6,
   "metadata": {
    "metadata": {}
   },
   "outputs": [],
   "source": [
    "path_to_summary = f'{data_dir}/clean_all_group_df_summary.csv'\n",
    "path_to_longform = f'{data_dir}/clean_all_group_longform.csv'\n",
    "\n",
    "summary_df = pd.read_csv(path_to_summary, index_col=0)\n",
    "longform = pd.read_csv(path_to_longform, index_col=0)\n",
    "\n",
    "alcohol_longform = longform[longform['Group'] == 'alcohol']\n",
    "cannabis_longform = longform[longform['Group'] == 'cannabis']"
   ]
  },
  {
   "cell_type": "code",
   "execution_count": 7,
   "metadata": {
    "metadata": {}
   },
   "outputs": [],
   "source": [
    "batches = {\n",
    "    'alcohol': None,\n",
    "    'cannabis': None,\n",
    "}"
   ]
  },
  {
   "cell_type": "markdown",
   "metadata": {},
   "source": [
    "## EMFit for all alcohol data"
   ]
  },
  {
   "cell_type": "code",
   "execution_count": 8,
   "metadata": {
    "metadata": {}
   },
   "outputs": [
    {
     "name": "stdout",
     "output_type": "stream",
     "text": [
      "Loading existing decision models\n"
     ]
    }
   ],
   "source": [
    "modout = {}\n",
    "\n",
    "save_fit_path=f'{results_dir}/decision/'\n",
    "if not os.path.exists(save_fit_path):\n",
    "    os.makedirs(save_fit_path)\n",
    "if os.path.exists(f'{save_fit_path}/alcohol_decision_models.pkl'):\n",
    "    print('Loading existing decision models')\n",
    "    with open(f'{save_fit_path}/alcohol_decision_models.pkl', 'rb') as f:\n",
    "        modout = pickle.load(f)\n"
   ]
  },
  {
   "cell_type": "code",
   "execution_count": 9,
   "metadata": {
    "metadata": {}
   },
   "outputs": [
    {
     "name": "stdout",
     "output_type": "stream",
     "text": [
      "Fitting a2_wsls_money - Money block\n",
      "2192.925 (000), 2047.190 (001), 2038.749 (002), 2036.211 (003), 2035.172 (004), 2034.683 (005), 2034.437 (006), 2034.307 (007), 2034.238 (008), 2034.201 (009), 2034.181 (010), 2034.170 (011), 2034.164 (012), 2034.161 (013), 2034.159 (014), 2034.158 (015),  -- CONVERGED!!!!!\n",
      "c_nobias_asymmetric_rw_money already fit\n",
      "d_lrbias_rw_money already fit\n",
      "e_betabias_rw_money already fit\n",
      "n_momentum_rw_money already fit\n",
      "o_add_rewbias_rw_money already fit\n",
      "Fitting a2_wsls_other - Other block\n",
      "2270.360 (000), 2105.716 (001), 2098.690 (002), 2096.312 (003), 2095.240 (004), 2094.695 (005), 2094.403 (006), 2094.243 (007), 2094.152 (008), 2094.102 (009), 2094.072 (010), 2094.055 (011), 2094.045 (012), 2094.040 (013), 2094.037 (014), 2094.035 (015), 2094.034 (016), 2094.034 (017),  -- CONVERGED!!!!!\n",
      "c_nobias_asymmetric_rw_other already fit\n",
      "d_lrbias_rw_other already fit\n",
      "e_betabias_rw_other already fit\n",
      "n_momentum_rw_other already fit\n",
      "o_add_rewbias_rw_other already fit\n"
     ]
    }
   ],
   "source": [
    "## Loop over blocks\n",
    "\n",
    "for block in ['money', 'other']:\n",
    "    # create a dict of lists with choices and rewards for each subject\n",
    "    subj_dict = {\n",
    "        'choices': [],\n",
    "        'rewards': [],\n",
    "        'craving_ratings': []\n",
    "    }\n",
    "\n",
    "    # Loop through each subject and add their choices and rewards and craving ratings to the dict\n",
    "    for pid in alcohol_longform.PID.unique():\n",
    "        subj_dict['choices'] += [np.array([alcohol_longform[\n",
    "            (alcohol_longform.PID == pid)\n",
    "            & (alcohol_longform.Type == block)\n",
    "        ]['Action'].values])]\n",
    "        subj_dict['rewards'] += [np.array([alcohol_longform[\n",
    "            (alcohol_longform.PID == pid)\n",
    "            & (alcohol_longform.Type == block)\n",
    "        ]['Reward'].values])]\n",
    "        subj_dict['craving_ratings'] += [np.array([alcohol_longform[\n",
    "            (alcohol_longform.PID == pid)\n",
    "            & (alcohol_longform.Type == block)\n",
    "        ]['Craving Rating'].values])]\n",
    "\n",
    "    # Create the all_data list of lists required for pyEM\n",
    "    all_data = []\n",
    "    for idx, (choices, rewards, craving_ratings) in enumerate(zip(subj_dict['choices'], subj_dict['rewards'], subj_dict['craving_ratings'])):\n",
    "        all_data += [[choices, rewards, craving_ratings]]\n",
    "\n",
    "    # Loop through each model and fit it to the data\n",
    "    for model_name, param_names, fit_func in [\n",
    "        (f'a2_wsls_{block}', ['eps'], decision_models.a2_wsls.fit),\n",
    "        (f'c_nobias_asymmetric_rw_{block}', ['beta', 'lr_pos', 'lr_neg'], decision_models.c_nobias_asymmetric_rw.fit),\n",
    "        (f'd_lrbias_rw_{block}', ['beta', 'lr', 'mod'], decision_models.d_lrbias_rw.fit),\n",
    "        (f'e_betabias_rw_{block}', ['beta', 'lr', 'mod'], decision_models.e_betabias_rw.fit),\n",
    "        (f'n_momentum_rw_{block}', ['beta', 'lr', 'mod', 'mom_lr'], decision_models.n_momentum_rw.fit),\n",
    "        (f'o_add_rewbias_rw_{block}', ['beta', 'lr', 'mod'], decision_models.o_add_rewbias_rw.fit),\n",
    "    ]:\n",
    "        if model_name in modout:\n",
    "            print(f'{model_name} already fit')\n",
    "            continue\n",
    "\n",
    "        print(f'Fitting {model_name} - {block.capitalize()} block')\n",
    "        m, inv_h, posterior, NPL, NLPrior, NLL = EMfit(all_data, fit_func, param_names)\n",
    "        modout = store_modout(\n",
    "            modout, model_name, param_names, subj_dict, fit_func, \n",
    "            m, inv_h, posterior, NPL, NLPrior, NLL\n",
    "        )\n"
   ]
  },
  {
   "cell_type": "code",
   "execution_count": 12,
   "metadata": {
    "metadata": {}
   },
   "outputs": [
    {
     "data": {
      "text/html": [
       "<div>\n",
       "<style scoped>\n",
       "    .dataframe tbody tr th:only-of-type {\n",
       "        vertical-align: middle;\n",
       "    }\n",
       "\n",
       "    .dataframe tbody tr th {\n",
       "        vertical-align: top;\n",
       "    }\n",
       "\n",
       "    .dataframe thead th {\n",
       "        text-align: right;\n",
       "    }\n",
       "</style>\n",
       "<table border=\"1\" class=\"dataframe\">\n",
       "  <thead>\n",
       "    <tr style=\"text-align: right;\">\n",
       "      <th></th>\n",
       "      <th>Model</th>\n",
       "      <th>Type</th>\n",
       "      <th>IC</th>\n",
       "      <th>Delta-IC</th>\n",
       "    </tr>\n",
       "  </thead>\n",
       "  <tbody>\n",
       "    <tr>\n",
       "      <th>0</th>\n",
       "      <td>c_nobias_asymmetric_rw</td>\n",
       "      <td>Money</td>\n",
       "      <td>3424.300958</td>\n",
       "      <td>11.453208</td>\n",
       "    </tr>\n",
       "    <tr>\n",
       "      <th>1</th>\n",
       "      <td>d_lrbias_rw</td>\n",
       "      <td>Money</td>\n",
       "      <td>3437.579083</td>\n",
       "      <td>24.731333</td>\n",
       "    </tr>\n",
       "    <tr>\n",
       "      <th>2</th>\n",
       "      <td>e_betabias_rw</td>\n",
       "      <td>Money</td>\n",
       "      <td>3484.175219</td>\n",
       "      <td>71.327469</td>\n",
       "    </tr>\n",
       "    <tr>\n",
       "      <th>3</th>\n",
       "      <td>n_momentum_rw</td>\n",
       "      <td>Money</td>\n",
       "      <td>3611.560244</td>\n",
       "      <td>198.712494</td>\n",
       "    </tr>\n",
       "    <tr>\n",
       "      <th>4</th>\n",
       "      <td>o_add_rewbias_rw</td>\n",
       "      <td>Money</td>\n",
       "      <td>3412.847750</td>\n",
       "      <td>0.000000</td>\n",
       "    </tr>\n",
       "    <tr>\n",
       "      <th>5</th>\n",
       "      <td>a2_wsls</td>\n",
       "      <td>Money</td>\n",
       "      <td>4223.986066</td>\n",
       "      <td>811.138316</td>\n",
       "    </tr>\n",
       "  </tbody>\n",
       "</table>\n",
       "</div>"
      ],
      "text/plain": [
       "                    Model   Type           IC    Delta-IC\n",
       "0  c_nobias_asymmetric_rw  Money  3424.300958   11.453208\n",
       "1             d_lrbias_rw  Money  3437.579083   24.731333\n",
       "2           e_betabias_rw  Money  3484.175219   71.327469\n",
       "3           n_momentum_rw  Money  3611.560244  198.712494\n",
       "4        o_add_rewbias_rw  Money  3412.847750    0.000000\n",
       "5                 a2_wsls  Money  4223.986066  811.138316"
      ]
     },
     "metadata": {},
     "output_type": "display_data"
    },
    {
     "data": {
      "text/html": [
       "<div>\n",
       "<style scoped>\n",
       "    .dataframe tbody tr th:only-of-type {\n",
       "        vertical-align: middle;\n",
       "    }\n",
       "\n",
       "    .dataframe tbody tr th {\n",
       "        vertical-align: top;\n",
       "    }\n",
       "\n",
       "    .dataframe thead th {\n",
       "        text-align: right;\n",
       "    }\n",
       "</style>\n",
       "<table border=\"1\" class=\"dataframe\">\n",
       "  <thead>\n",
       "    <tr style=\"text-align: right;\">\n",
       "      <th></th>\n",
       "      <th>Model</th>\n",
       "      <th>Type</th>\n",
       "      <th>IC</th>\n",
       "      <th>Delta-IC</th>\n",
       "    </tr>\n",
       "  </thead>\n",
       "  <tbody>\n",
       "    <tr>\n",
       "      <th>0</th>\n",
       "      <td>c_nobias_asymmetric_rw</td>\n",
       "      <td>Other</td>\n",
       "      <td>3824.782579</td>\n",
       "      <td>35.328866</td>\n",
       "    </tr>\n",
       "    <tr>\n",
       "      <th>1</th>\n",
       "      <td>d_lrbias_rw</td>\n",
       "      <td>Other</td>\n",
       "      <td>3789.453713</td>\n",
       "      <td>0.000000</td>\n",
       "    </tr>\n",
       "    <tr>\n",
       "      <th>2</th>\n",
       "      <td>e_betabias_rw</td>\n",
       "      <td>Other</td>\n",
       "      <td>3839.745266</td>\n",
       "      <td>50.291553</td>\n",
       "    </tr>\n",
       "    <tr>\n",
       "      <th>3</th>\n",
       "      <td>n_momentum_rw</td>\n",
       "      <td>Other</td>\n",
       "      <td>3999.895433</td>\n",
       "      <td>210.441720</td>\n",
       "    </tr>\n",
       "    <tr>\n",
       "      <th>4</th>\n",
       "      <td>o_add_rewbias_rw</td>\n",
       "      <td>Other</td>\n",
       "      <td>3799.277296</td>\n",
       "      <td>9.823582</td>\n",
       "    </tr>\n",
       "    <tr>\n",
       "      <th>5</th>\n",
       "      <td>a2_wsls</td>\n",
       "      <td>Other</td>\n",
       "      <td>4379.410120</td>\n",
       "      <td>589.956407</td>\n",
       "    </tr>\n",
       "  </tbody>\n",
       "</table>\n",
       "</div>"
      ],
      "text/plain": [
       "                    Model   Type           IC    Delta-IC\n",
       "0  c_nobias_asymmetric_rw  Other  3824.782579   35.328866\n",
       "1             d_lrbias_rw  Other  3789.453713    0.000000\n",
       "2           e_betabias_rw  Other  3839.745266   50.291553\n",
       "3           n_momentum_rw  Other  3999.895433  210.441720\n",
       "4        o_add_rewbias_rw  Other  3799.277296    9.823582\n",
       "5                 a2_wsls  Other  4379.410120  589.956407"
      ]
     },
     "metadata": {},
     "output_type": "display_data"
    }
   ],
   "source": [
    "skipped_models = list(set([elem[:-6] for elem in modout.keys() if 'b_nobias' in elem or 'heuristic' in elem or 'decay' in elem or 'fictive' in elem or 'p_asymmetric' in elem or 'mult' in elem or 'm_rew' in elem]))\n",
    "fig_money, fig_other, df_money, df_other = model_comparison_for_paper(modout, 'cannabis', ic_type='bic', skip_models=skipped_models, figsize=(35*mm, 21*mm))\n",
    "display(df_money)\n",
    "display(df_other)"
   ]
  },
  {
   "cell_type": "code",
   "execution_count": 13,
   "metadata": {},
   "outputs": [
    {
     "data": {
      "image/png": "[encoded data removed]",
      "text/plain": [
       "<Figure size 551.181x330.709 with 1 Axes>"
      ]
     },
     "execution_count": 13,
     "metadata": {},
     "output_type": "execute_result"
    }
   ],
   "source": [
    "fig_money"
   ]
  },
  {
   "cell_type": "code",
   "execution_count": 14,
   "metadata": {},
   "outputs": [
    {
     "data": {
      "image/png": "[encoded data removed]",
      "text/plain": [
       "<Figure size 551.181x330.709 with 1 Axes>"
      ]
     },
     "execution_count": 14,
     "metadata": {},
     "output_type": "execute_result"
    }
   ],
   "source": [
    "fig_other"
   ]
  },
  {
   "cell_type": "markdown",
   "metadata": {},
   "source": [
    "## EMFit for all cannabis data"
   ]
  },
  {
   "cell_type": "code",
   "execution_count": 15,
   "metadata": {
    "metadata": {}
   },
   "outputs": [
    {
     "name": "stdout",
     "output_type": "stream",
     "text": [
      "Loading existing decision models\n"
     ]
    }
   ],
   "source": [
    "modout = {}\n",
    "\n",
    "save_fit_path=f'{results_dir}/decision/'\n",
    "if not os.path.exists(save_fit_path):\n",
    "    os.makedirs(save_fit_path)\n",
    "if os.path.exists(f'{save_fit_path}/cannabis_decision_models.pkl'):\n",
    "    print('Loading existing decision models')\n",
    "    with open(f'{save_fit_path}/cannabis_decision_models.pkl', 'rb') as f:\n",
    "        modout = pickle.load(f)\n"
   ]
  },
  {
   "cell_type": "code",
   "execution_count": 16,
   "metadata": {
    "metadata": {}
   },
   "outputs": [
    {
     "name": "stdout",
     "output_type": "stream",
     "text": [
      "Fitting a2_wsls_money - Money block\n",
      "2173.521 (000), 2014.705 (001), 2007.087 (002), 2004.325 (003), 2002.998 (004), 2002.282 (005), 2001.871 (006), 2001.627 (007), 2001.481 (008), 2001.390 (009), 2001.335 (010), 2001.300 (011), 2001.280 (012), 2001.267 (013), 2001.259 (014), 2001.253 (015), 2001.252 (020), 2001.249 (021), 2001.245 (022),  -- CONVERGED!!!!!\n",
      "c_nobias_asymmetric_rw_money already fit\n",
      "d_lrbias_rw_money already fit\n",
      "e_betabias_rw_money already fit\n",
      "n_momentum_rw_money already fit\n",
      "o_add_rewbias_rw_money already fit\n",
      "Fitting a2_wsls_other - Other block\n",
      "2131.255 (000), 1986.666 (001), 1979.515 (002), 1977.458 (003), 1976.642 (004), 1976.276 (005), 1976.097 (006), 1976.008 (007), 1975.962 (008), 1975.940 (009), 1975.928 (010), 1975.923 (011), 1975.919 (012), 1975.917 (013), 1975.917 (014),  -- CONVERGED!!!!!\n",
      "c_nobias_asymmetric_rw_other already fit\n",
      "d_lrbias_rw_other already fit\n",
      "e_betabias_rw_other already fit\n",
      "n_momentum_rw_other already fit\n",
      "o_add_rewbias_rw_other already fit\n"
     ]
    }
   ],
   "source": [
    "## Loop over blocks\n",
    "\n",
    "for block in ['money', 'other']:\n",
    "    # create a dict of lists with choices and rewards for each subject\n",
    "    subj_dict = {\n",
    "        'choices': [],\n",
    "        'rewards': [],\n",
    "        'craving_ratings': []\n",
    "    }\n",
    "\n",
    "    # Loop through each subject and add their choices and rewards and craving ratings to the dict\n",
    "    for pid in cannabis_longform.PID.unique():\n",
    "        subj_dict['choices'] += [np.array([cannabis_longform[\n",
    "            (cannabis_longform.PID == pid)\n",
    "            & (cannabis_longform.Type == block)\n",
    "        ]['Action'].values])]\n",
    "        subj_dict['rewards'] += [np.array([cannabis_longform[\n",
    "            (cannabis_longform.PID == pid)\n",
    "            & (cannabis_longform.Type == block)\n",
    "        ]['Reward'].values])]\n",
    "        subj_dict['craving_ratings'] += [np.array([cannabis_longform[\n",
    "            (cannabis_longform.PID == pid)\n",
    "            & (cannabis_longform.Type == block)\n",
    "        ]['Craving Rating'].values])]\n",
    "\n",
    "    # Create the all_data list of lists required for pyEM\n",
    "    all_data = []\n",
    "    for idx, (choices, rewards, craving_ratings) in enumerate(zip(subj_dict['choices'], subj_dict['rewards'], subj_dict['craving_ratings'])):\n",
    "        all_data += [[choices, rewards, craving_ratings]]\n",
    "\n",
    "    # Loop through each model and fit it to the data\n",
    "    for model_name, param_names, fit_func in [\n",
    "        (f'a2_wsls_{block}', ['eps'], decision_models.a2_wsls.fit),\n",
    "        (f'c_nobias_asymmetric_rw_{block}', ['beta', 'lr_pos', 'lr_neg'], decision_models.c_nobias_asymmetric_rw.fit),\n",
    "        (f'd_lrbias_rw_{block}', ['beta', 'lr', 'mod'], decision_models.d_lrbias_rw.fit),\n",
    "        (f'e_betabias_rw_{block}', ['beta', 'lr', 'mod'], decision_models.e_betabias_rw.fit),\n",
    "        (f'n_momentum_rw_{block}', ['beta', 'lr', 'mod', 'mom_lr'], decision_models.n_momentum_rw.fit),\n",
    "        (f'o_add_rewbias_rw_{block}', ['beta', 'lr', 'mod'], decision_models.o_add_rewbias_rw.fit),\n",
    "    ]:\n",
    "        if model_name in modout:\n",
    "            print(f'{model_name} already fit')\n",
    "            continue\n",
    "\n",
    "        print(f'Fitting {model_name} - {block.capitalize()} block')\n",
    "        m, inv_h, posterior, NPL, NLPrior, NLL = EMfit(all_data, fit_func, param_names)\n",
    "        modout = store_modout(\n",
    "            modout, model_name, param_names, subj_dict, fit_func, \n",
    "            m, inv_h, posterior, NPL, NLPrior, NLL\n",
    "        )\n"
   ]
  },
  {
   "cell_type": "code",
   "execution_count": 17,
   "metadata": {
    "metadata": {}
   },
   "outputs": [
    {
     "data": {
      "text/html": [
       "<div>\n",
       "<style scoped>\n",
       "    .dataframe tbody tr th:only-of-type {\n",
       "        vertical-align: middle;\n",
       "    }\n",
       "\n",
       "    .dataframe tbody tr th {\n",
       "        vertical-align: top;\n",
       "    }\n",
       "\n",
       "    .dataframe thead th {\n",
       "        text-align: right;\n",
       "    }\n",
       "</style>\n",
       "<table border=\"1\" class=\"dataframe\">\n",
       "  <thead>\n",
       "    <tr style=\"text-align: right;\">\n",
       "      <th></th>\n",
       "      <th>Model</th>\n",
       "      <th>Type</th>\n",
       "      <th>IC</th>\n",
       "      <th>Delta-IC</th>\n",
       "    </tr>\n",
       "  </thead>\n",
       "  <tbody>\n",
       "    <tr>\n",
       "      <th>0</th>\n",
       "      <td>c_nobias_asymmetric_rw</td>\n",
       "      <td>Money</td>\n",
       "      <td>3810.607860</td>\n",
       "      <td>10.966603</td>\n",
       "    </tr>\n",
       "    <tr>\n",
       "      <th>1</th>\n",
       "      <td>d_lrbias_rw</td>\n",
       "      <td>Money</td>\n",
       "      <td>3823.757101</td>\n",
       "      <td>24.115843</td>\n",
       "    </tr>\n",
       "    <tr>\n",
       "      <th>2</th>\n",
       "      <td>e_betabias_rw</td>\n",
       "      <td>Money</td>\n",
       "      <td>3831.984607</td>\n",
       "      <td>32.343349</td>\n",
       "    </tr>\n",
       "    <tr>\n",
       "      <th>3</th>\n",
       "      <td>n_momentum_rw</td>\n",
       "      <td>Money</td>\n",
       "      <td>4020.507369</td>\n",
       "      <td>220.866111</td>\n",
       "    </tr>\n",
       "    <tr>\n",
       "      <th>4</th>\n",
       "      <td>o_add_rewbias_rw</td>\n",
       "      <td>Money</td>\n",
       "      <td>3799.641258</td>\n",
       "      <td>0.000000</td>\n",
       "    </tr>\n",
       "    <tr>\n",
       "      <th>5</th>\n",
       "      <td>a2_wsls</td>\n",
       "      <td>Money</td>\n",
       "      <td>4192.902837</td>\n",
       "      <td>393.261579</td>\n",
       "    </tr>\n",
       "  </tbody>\n",
       "</table>\n",
       "</div>"
      ],
      "text/plain": [
       "                    Model   Type           IC    Delta-IC\n",
       "0  c_nobias_asymmetric_rw  Money  3810.607860   10.966603\n",
       "1             d_lrbias_rw  Money  3823.757101   24.115843\n",
       "2           e_betabias_rw  Money  3831.984607   32.343349\n",
       "3           n_momentum_rw  Money  4020.507369  220.866111\n",
       "4        o_add_rewbias_rw  Money  3799.641258    0.000000\n",
       "5                 a2_wsls  Money  4192.902837  393.261579"
      ]
     },
     "metadata": {},
     "output_type": "display_data"
    },
    {
     "data": {
      "text/html": [
       "<div>\n",
       "<style scoped>\n",
       "    .dataframe tbody tr th:only-of-type {\n",
       "        vertical-align: middle;\n",
       "    }\n",
       "\n",
       "    .dataframe tbody tr th {\n",
       "        vertical-align: top;\n",
       "    }\n",
       "\n",
       "    .dataframe thead th {\n",
       "        text-align: right;\n",
       "    }\n",
       "</style>\n",
       "<table border=\"1\" class=\"dataframe\">\n",
       "  <thead>\n",
       "    <tr style=\"text-align: right;\">\n",
       "      <th></th>\n",
       "      <th>Model</th>\n",
       "      <th>Type</th>\n",
       "      <th>IC</th>\n",
       "      <th>Delta-IC</th>\n",
       "    </tr>\n",
       "  </thead>\n",
       "  <tbody>\n",
       "    <tr>\n",
       "      <th>0</th>\n",
       "      <td>c_nobias_asymmetric_rw</td>\n",
       "      <td>Other</td>\n",
       "      <td>3814.185016</td>\n",
       "      <td>91.044146</td>\n",
       "    </tr>\n",
       "    <tr>\n",
       "      <th>1</th>\n",
       "      <td>d_lrbias_rw</td>\n",
       "      <td>Other</td>\n",
       "      <td>3723.140870</td>\n",
       "      <td>0.000000</td>\n",
       "    </tr>\n",
       "    <tr>\n",
       "      <th>2</th>\n",
       "      <td>e_betabias_rw</td>\n",
       "      <td>Other</td>\n",
       "      <td>3761.902568</td>\n",
       "      <td>38.761698</td>\n",
       "    </tr>\n",
       "    <tr>\n",
       "      <th>3</th>\n",
       "      <td>n_momentum_rw</td>\n",
       "      <td>Other</td>\n",
       "      <td>3965.757049</td>\n",
       "      <td>242.616179</td>\n",
       "    </tr>\n",
       "    <tr>\n",
       "      <th>4</th>\n",
       "      <td>o_add_rewbias_rw</td>\n",
       "      <td>Other</td>\n",
       "      <td>3761.304769</td>\n",
       "      <td>38.163899</td>\n",
       "    </tr>\n",
       "    <tr>\n",
       "      <th>5</th>\n",
       "      <td>a2_wsls</td>\n",
       "      <td>Other</td>\n",
       "      <td>4108.185821</td>\n",
       "      <td>385.044951</td>\n",
       "    </tr>\n",
       "  </tbody>\n",
       "</table>\n",
       "</div>"
      ],
      "text/plain": [
       "                    Model   Type           IC    Delta-IC\n",
       "0  c_nobias_asymmetric_rw  Other  3814.185016   91.044146\n",
       "1             d_lrbias_rw  Other  3723.140870    0.000000\n",
       "2           e_betabias_rw  Other  3761.902568   38.761698\n",
       "3           n_momentum_rw  Other  3965.757049  242.616179\n",
       "4        o_add_rewbias_rw  Other  3761.304769   38.163899\n",
       "5                 a2_wsls  Other  4108.185821  385.044951"
      ]
     },
     "metadata": {},
     "output_type": "display_data"
    }
   ],
   "source": [
    "skipped_models = list(set([elem[:-6] for elem in modout.keys() if 'b_nobias' in elem or 'heuristic' in elem or 'decay' in elem or 'fictive' in elem or 'p_asymmetric' in elem or 'mult' in elem or 'm_rew' in elem]))\n",
    "fig_money, fig_other, df_money, df_other = model_comparison_for_paper(modout, 'cannabis', ic_type='bic', skip_models=skipped_models, figsize=(35*mm, 21*mm))\n",
    "display(df_money)\n",
    "display(df_other)"
   ]
  },
  {
   "cell_type": "code",
   "execution_count": 18,
   "metadata": {},
   "outputs": [
    {
     "data": {
      "image/png": "[encoded data removed]",
      "text/plain": [
       "<Figure size 551.181x330.709 with 1 Axes>"
      ]
     },
     "execution_count": 18,
     "metadata": {},
     "output_type": "execute_result"
    }
   ],
   "source": [
    "fig_money"
   ]
  },
  {
   "cell_type": "code",
   "execution_count": 19,
   "metadata": {},
   "outputs": [
    {
     "data": {
      "image/png": "[encoded data removed]",
      "text/plain": [
       "<Figure size 551.181x330.709 with 1 Axes>"
      ]
     },
     "execution_count": 19,
     "metadata": {},
     "output_type": "execute_result"
    }
   ],
   "source": [
    "fig_other"
   ]
  }
 ],
 "metadata": {
  "kernelspec": {
   "display_name": "emfit2",
   "language": "python",
   "name": "python3"
  },
  "language_info": {
   "codemirror_mode": {
    "name": "ipython",
    "version": 3
   },
   "file_extension": ".py",
   "mimetype": "text/x-python",
   "name": "python",
   "nbconvert_exporter": "python",
   "pygments_lexer": "ipython3",
   "version": "3.9.16"
  }
 },
 "nbformat": 4,
 "nbformat_minor": 2
}
